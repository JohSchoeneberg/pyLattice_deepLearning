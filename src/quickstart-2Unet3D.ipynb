{
 "cells": [
  {
   "cell_type": "code",
   "execution_count": 1,
   "metadata": {},
   "outputs": [
    {
     "name": "stderr",
     "output_type": "stream",
     "text": [
      "c:\\users\\gauth\\appdata\\local\\continuum\\anaconda3\\envs\\pylattice_3d_env\\lib\\site-packages\\tensorflow\\python\\framework\\dtypes.py:516: FutureWarning: Passing (type, 1) or '1type' as a synonym of type is deprecated; in a future version of numpy, it will be understood as (type, (1,)) / '(1,)type'.\n",
      "  _np_qint8 = np.dtype([(\"qint8\", np.int8, 1)])\n",
      "c:\\users\\gauth\\appdata\\local\\continuum\\anaconda3\\envs\\pylattice_3d_env\\lib\\site-packages\\tensorflow\\python\\framework\\dtypes.py:517: FutureWarning: Passing (type, 1) or '1type' as a synonym of type is deprecated; in a future version of numpy, it will be understood as (type, (1,)) / '(1,)type'.\n",
      "  _np_quint8 = np.dtype([(\"quint8\", np.uint8, 1)])\n",
      "c:\\users\\gauth\\appdata\\local\\continuum\\anaconda3\\envs\\pylattice_3d_env\\lib\\site-packages\\tensorflow\\python\\framework\\dtypes.py:518: FutureWarning: Passing (type, 1) or '1type' as a synonym of type is deprecated; in a future version of numpy, it will be understood as (type, (1,)) / '(1,)type'.\n",
      "  _np_qint16 = np.dtype([(\"qint16\", np.int16, 1)])\n",
      "c:\\users\\gauth\\appdata\\local\\continuum\\anaconda3\\envs\\pylattice_3d_env\\lib\\site-packages\\tensorflow\\python\\framework\\dtypes.py:519: FutureWarning: Passing (type, 1) or '1type' as a synonym of type is deprecated; in a future version of numpy, it will be understood as (type, (1,)) / '(1,)type'.\n",
      "  _np_quint16 = np.dtype([(\"quint16\", np.uint16, 1)])\n",
      "c:\\users\\gauth\\appdata\\local\\continuum\\anaconda3\\envs\\pylattice_3d_env\\lib\\site-packages\\tensorflow\\python\\framework\\dtypes.py:520: FutureWarning: Passing (type, 1) or '1type' as a synonym of type is deprecated; in a future version of numpy, it will be understood as (type, (1,)) / '(1,)type'.\n",
      "  _np_qint32 = np.dtype([(\"qint32\", np.int32, 1)])\n",
      "c:\\users\\gauth\\appdata\\local\\continuum\\anaconda3\\envs\\pylattice_3d_env\\lib\\site-packages\\tensorflow\\python\\framework\\dtypes.py:525: FutureWarning: Passing (type, 1) or '1type' as a synonym of type is deprecated; in a future version of numpy, it will be understood as (type, (1,)) / '(1,)type'.\n",
      "  np_resource = np.dtype([(\"resource\", np.ubyte, 1)])\n",
      "c:\\users\\gauth\\appdata\\local\\continuum\\anaconda3\\envs\\pylattice_3d_env\\lib\\site-packages\\tensorboard\\compat\\tensorflow_stub\\dtypes.py:541: FutureWarning: Passing (type, 1) or '1type' as a synonym of type is deprecated; in a future version of numpy, it will be understood as (type, (1,)) / '(1,)type'.\n",
      "  _np_qint8 = np.dtype([(\"qint8\", np.int8, 1)])\n",
      "c:\\users\\gauth\\appdata\\local\\continuum\\anaconda3\\envs\\pylattice_3d_env\\lib\\site-packages\\tensorboard\\compat\\tensorflow_stub\\dtypes.py:542: FutureWarning: Passing (type, 1) or '1type' as a synonym of type is deprecated; in a future version of numpy, it will be understood as (type, (1,)) / '(1,)type'.\n",
      "  _np_quint8 = np.dtype([(\"quint8\", np.uint8, 1)])\n",
      "c:\\users\\gauth\\appdata\\local\\continuum\\anaconda3\\envs\\pylattice_3d_env\\lib\\site-packages\\tensorboard\\compat\\tensorflow_stub\\dtypes.py:543: FutureWarning: Passing (type, 1) or '1type' as a synonym of type is deprecated; in a future version of numpy, it will be understood as (type, (1,)) / '(1,)type'.\n",
      "  _np_qint16 = np.dtype([(\"qint16\", np.int16, 1)])\n",
      "c:\\users\\gauth\\appdata\\local\\continuum\\anaconda3\\envs\\pylattice_3d_env\\lib\\site-packages\\tensorboard\\compat\\tensorflow_stub\\dtypes.py:544: FutureWarning: Passing (type, 1) or '1type' as a synonym of type is deprecated; in a future version of numpy, it will be understood as (type, (1,)) / '(1,)type'.\n",
      "  _np_quint16 = np.dtype([(\"quint16\", np.uint16, 1)])\n",
      "c:\\users\\gauth\\appdata\\local\\continuum\\anaconda3\\envs\\pylattice_3d_env\\lib\\site-packages\\tensorboard\\compat\\tensorflow_stub\\dtypes.py:545: FutureWarning: Passing (type, 1) or '1type' as a synonym of type is deprecated; in a future version of numpy, it will be understood as (type, (1,)) / '(1,)type'.\n",
      "  _np_qint32 = np.dtype([(\"qint32\", np.int32, 1)])\n",
      "c:\\users\\gauth\\appdata\\local\\continuum\\anaconda3\\envs\\pylattice_3d_env\\lib\\site-packages\\tensorboard\\compat\\tensorflow_stub\\dtypes.py:550: FutureWarning: Passing (type, 1) or '1type' as a synonym of type is deprecated; in a future version of numpy, it will be understood as (type, (1,)) / '(1,)type'.\n",
      "  np_resource = np.dtype([(\"resource\", np.ubyte, 1)])\n"
     ]
    }
   ],
   "source": [
    "import os\n",
    "import sys\n",
    "import random\n",
    "\n",
    "#TODO Make universal imports for all py files?\n",
    "\n",
    "os.environ[\"CUDA_VISIBLE_DEVICES\"]=\"-1\"\n",
    "import tensorflow as tf\n",
    "from tensorflow import keras\n",
    "from tensorflow.keras.callbacks import EarlyStopping, ModelCheckpoint, ReduceLROnPlateau\n",
    "sys.modules['keras'] = keras\n",
    "\n",
    "import numpy as np\n",
    "\n",
    "from dice import dice_coef, dice_loss\n",
    "from generator import DataGen\n",
    "from visualize import display_slice_from_batch\n",
    "\n",
    "seed = 2019\n",
    "random.seed = seed\n",
    "#TODO make config[seed] and fix below\n",
    "#np.random.seed = seed\n",
    "tf.seed = seed"
   ]
  },
  {
   "cell_type": "code",
   "execution_count": 2,
   "metadata": {},
   "outputs": [],
   "source": [
    "patch_size = 32 # The size of the cube volumes in quickstart-gendata. You specified this in the previous notebook.\n",
    "percent_covered = 1e-10\n",
    "train_path = \"quickstart-gendata/train\"\n",
    "model_path = \"jan30_largeframe_32_nonzero_standardized_local.h5\" # Name your model\n",
    "epochs = 70\n",
    "patience = 4\n",
    "batch_size = 2\n",
    "\n",
    "train_ids = next(os.walk(train_path))[1] # Returns all directories under train_path\n",
    "\n",
    "val_data_size = 8 # Needs to be greater than batch_size\n",
    "\n",
    "valid_ids = train_ids[:val_data_size]\n",
    "train_ids = train_ids[val_data_size:]"
   ]
  },
  {
   "cell_type": "code",
   "execution_count": 4,
   "metadata": {
    "scrolled": true
   },
   "outputs": [
    {
     "name": "stdout",
     "output_type": "stream",
     "text": [
      "(2, 32, 32, 32, 1) (2, 32, 32, 32, 1)\n"
     ]
    }
   ],
   "source": [
    "gen = DataGen(train_ids, train_path, batch_size=batch_size, image_size=patch_size, patch_size=patch_size,\n",
    "              percent_covered = percent_covered)\n",
    "x, y = gen.__getitem__(0)\n",
    "#0 - 37\n",
    "print(x.shape, y.shape)"
   ]
  },
  {
   "cell_type": "code",
   "execution_count": 7,
   "metadata": {},
   "outputs": [
    {
     "name": "stdout",
     "output_type": "stream",
     "text": [
      "(32, 32, 1)\n",
      "2.7157068998056655\n",
      "1.0\n"
     ]
    },
    {
     "data": {
      "image/png": "[encoded data removed]",
      "text/plain": [
       "<Figure size 432x288 with 1 Axes>"
      ]
     },
     "metadata": {
      "needs_background": "light"
     },
     "output_type": "display_data"
    },
    {
     "data": {
      "image/png": "[encoded data removed]",
      "text/plain": [
       "<Figure size 432x288 with 1 Axes>"
      ]
     },
     "metadata": {
      "needs_background": "light"
     },
     "output_type": "display_data"
    }
   ],
   "source": [
    "# View patches from the batch generated above.\n",
    "# Change z to look at different slices.\n",
    "\n",
    "n=0\n",
    "z=23\n",
    "\n",
    "display_slice_from_batch(x, n, z)\n",
    "print(x[n, :, :, z].shape)\n",
    "print(np.amax(x[n, :, :, z]))\n",
    "\n",
    "\n",
    "display_slice_from_batch(y, n, z)\n",
    "print(np.amax(y[n, :, :, :]))\n"
   ]
  },
  {
   "cell_type": "code",
   "execution_count": 8,
   "metadata": {},
   "outputs": [],
   "source": [
    "# Neural network blocks\n",
    "def down_block(x, filters, kernel_size=(3, 3, 3), padding=\"same\", strides=(1, 1, 1)):\n",
    "    c = keras.layers.Conv3D(filters, kernel_size, padding=padding, strides=strides, activation=\"relu\")(x)\n",
    "    c = keras.layers.Conv3D(filters*2, kernel_size, padding=padding, strides=strides, activation=\"relu\")(c)\n",
    "    p = keras.layers.MaxPool3D((2, 2, 2))(c)\n",
    "    return c, p\n",
    "\n",
    "def up_block(x, skip, filters, kernel_size=(3, 3, 3), padding=\"same\", strides=(1, 1, 1)):\n",
    "    us = keras.layers.Conv3DTranspose(filters*4, (2, 2, 2), (2, 2, 2))(x)\n",
    "    concat = keras.layers.Concatenate()([us, skip])\n",
    "    c = keras.layers.Conv3D(filters*2, kernel_size, padding=padding, strides=strides, activation=\"relu\")(concat)\n",
    "    c = keras.layers.Conv3D(filters*2, kernel_size, padding=padding, strides=strides, activation=\"relu\")(c)\n",
    "    return c\n",
    "\n",
    "def bottleneck(x, filters, kernel_size=(3, 3, 3), padding=\"same\", strides=(1, 1, 1)):\n",
    "    c = keras.layers.Conv3D(filters, kernel_size, padding=padding, strides=strides, activation=\"relu\")(x)\n",
    "    c = keras.layers.Conv3D(filters*2, kernel_size, padding=padding, strides=strides, activation=\"relu\")(c)\n",
    "    return c"
   ]
  },
  {
   "cell_type": "code",
   "execution_count": 9,
   "metadata": {},
   "outputs": [],
   "source": [
    "# Model Architecture\n",
    "def UNet():\n",
    "    #f = [16, 32, 64, 128, 256]\n",
    "    f = [32, 64, 128, 256]\n",
    "    inputs = keras.layers.Input((patch_size, patch_size, patch_size, 1))\n",
    "    \n",
    "    p0 = inputs\n",
    "    c1, p1 = down_block(p0, f[0]) #32 -> 16\n",
    "    c2, p2 = down_block(p1, f[1]) #16 -> 8\n",
    "    c3, p3 = down_block(p2, f[2]) #8 -> 4\n",
    "    #c4, p4 = down_block(p3, f[3]) #16->8\n",
    "    \n",
    "    bn = bottleneck(p3, f[3])\n",
    "    \n",
    "    u1 = up_block(bn, c3, f[2]) #4 -> 8\n",
    "    u2 = up_block(u1, c2, f[1]) #8 -> 16\n",
    "    u3 = up_block(u2, c1, f[0]) #16 -> 32\n",
    "    #u4 = up_block(u3, c1, f[0]) #64 -> 128\n",
    "    \n",
    "    outputs = keras.layers.Conv3D(1, (1, 1, 1), padding=\"same\", activation=\"sigmoid\")(u3)\n",
    "    model = keras.models.Model(inputs, outputs)\n",
    "    return model"
   ]
  },
  {
   "cell_type": "code",
   "execution_count": 11,
   "metadata": {
    "scrolled": true
   },
   "outputs": [
    {
     "name": "stdout",
     "output_type": "stream",
     "text": [
      "Model: \"model_1\"\n",
      "__________________________________________________________________________________________________\n",
      "Layer (type)                    Output Shape         Param #     Connected to                     \n",
      "==================================================================================================\n",
      "input_2 (InputLayer)            [(None, 32, 32, 32,  0                                            \n",
      "__________________________________________________________________________________________________\n",
      "conv3d_15 (Conv3D)              (None, 32, 32, 32, 3 896         input_2[0][0]                    \n",
      "__________________________________________________________________________________________________\n",
      "conv3d_16 (Conv3D)              (None, 32, 32, 32, 6 55360       conv3d_15[0][0]                  \n",
      "__________________________________________________________________________________________________\n",
      "max_pooling3d_3 (MaxPooling3D)  (None, 16, 16, 16, 6 0           conv3d_16[0][0]                  \n",
      "__________________________________________________________________________________________________\n",
      "conv3d_17 (Conv3D)              (None, 16, 16, 16, 6 110656      max_pooling3d_3[0][0]            \n",
      "__________________________________________________________________________________________________\n",
      "conv3d_18 (Conv3D)              (None, 16, 16, 16, 1 221312      conv3d_17[0][0]                  \n",
      "__________________________________________________________________________________________________\n",
      "max_pooling3d_4 (MaxPooling3D)  (None, 8, 8, 8, 128) 0           conv3d_18[0][0]                  \n",
      "__________________________________________________________________________________________________\n",
      "conv3d_19 (Conv3D)              (None, 8, 8, 8, 128) 442496      max_pooling3d_4[0][0]            \n",
      "__________________________________________________________________________________________________\n",
      "conv3d_20 (Conv3D)              (None, 8, 8, 8, 256) 884992      conv3d_19[0][0]                  \n",
      "__________________________________________________________________________________________________\n",
      "max_pooling3d_5 (MaxPooling3D)  (None, 4, 4, 4, 256) 0           conv3d_20[0][0]                  \n",
      "__________________________________________________________________________________________________\n",
      "conv3d_21 (Conv3D)              (None, 4, 4, 4, 256) 1769728     max_pooling3d_5[0][0]            \n",
      "__________________________________________________________________________________________________\n",
      "conv3d_22 (Conv3D)              (None, 4, 4, 4, 512) 3539456     conv3d_21[0][0]                  \n",
      "__________________________________________________________________________________________________\n",
      "conv3d_transpose_3 (Conv3DTrans (None, 8, 8, 8, 512) 2097664     conv3d_22[0][0]                  \n",
      "__________________________________________________________________________________________________\n",
      "concatenate_3 (Concatenate)     (None, 8, 8, 8, 768) 0           conv3d_transpose_3[0][0]         \n",
      "                                                                 conv3d_20[0][0]                  \n",
      "__________________________________________________________________________________________________\n",
      "conv3d_23 (Conv3D)              (None, 8, 8, 8, 256) 5308672     concatenate_3[0][0]              \n",
      "__________________________________________________________________________________________________\n",
      "conv3d_24 (Conv3D)              (None, 8, 8, 8, 256) 1769728     conv3d_23[0][0]                  \n",
      "__________________________________________________________________________________________________\n",
      "conv3d_transpose_4 (Conv3DTrans (None, 16, 16, 16, 2 524544      conv3d_24[0][0]                  \n",
      "__________________________________________________________________________________________________\n",
      "concatenate_4 (Concatenate)     (None, 16, 16, 16, 3 0           conv3d_transpose_4[0][0]         \n",
      "                                                                 conv3d_18[0][0]                  \n",
      "__________________________________________________________________________________________________\n",
      "conv3d_25 (Conv3D)              (None, 16, 16, 16, 1 1327232     concatenate_4[0][0]              \n",
      "__________________________________________________________________________________________________\n",
      "conv3d_26 (Conv3D)              (None, 16, 16, 16, 1 442496      conv3d_25[0][0]                  \n",
      "__________________________________________________________________________________________________\n",
      "conv3d_transpose_5 (Conv3DTrans (None, 32, 32, 32, 1 131200      conv3d_26[0][0]                  \n",
      "__________________________________________________________________________________________________\n",
      "concatenate_5 (Concatenate)     (None, 32, 32, 32, 1 0           conv3d_transpose_5[0][0]         \n",
      "                                                                 conv3d_16[0][0]                  \n",
      "__________________________________________________________________________________________________\n",
      "conv3d_27 (Conv3D)              (None, 32, 32, 32, 6 331840      concatenate_5[0][0]              \n",
      "__________________________________________________________________________________________________\n",
      "conv3d_28 (Conv3D)              (None, 32, 32, 32, 6 110656      conv3d_27[0][0]                  \n",
      "__________________________________________________________________________________________________\n",
      "conv3d_29 (Conv3D)              (None, 32, 32, 32, 1 65          conv3d_28[0][0]                  \n",
      "==================================================================================================\n",
      "Total params: 19,068,993\n",
      "Trainable params: 19,068,993\n",
      "Non-trainable params: 0\n",
      "__________________________________________________________________________________________________\n"
     ]
    }
   ],
   "source": [
    "# Create model\n",
    "model = UNet()\n",
    "model.compile(optimizer=tf.keras.optimizers.Adam(lr=1e-5), loss=dice_loss(smooth=1.), metrics=[dice_coef, 'accuracy'])#, sample_weight_mode=\"temporal\")\n",
    "model.summary()\n",
    "\n",
    "#TODO Does valid_gen use percent_covered = 0 or nonzero?\n",
    "train_gen = DataGen(train_ids, train_path, image_size=patch_size, patch_size=patch_size, batch_size=batch_size, percent_covered=percent_covered)\n",
    "valid_gen = DataGen(valid_ids, train_path, image_size=patch_size, patch_size=patch_size, batch_size=batch_size, percent_covered=percent_covered)"
   ]
  },
  {
   "cell_type": "code",
   "execution_count": null,
   "metadata": {
    "scrolled": false
   },
   "outputs": [],
   "source": [
    "# Train the model\n",
    "train_steps = len(train_ids)*8//batch_size\n",
    "valid_steps = len(valid_ids)*8//batch_size\n",
    "\n",
    "callbacks = [EarlyStopping(monitor='val_loss', patience=patience, verbose=1),\n",
    "             ModelCheckpoint(filepath=model_path, monitor='val_loss', save_best_only=True, verbose=1),\n",
    "             ReduceLROnPlateau(factor=0.5, patience=2, verbose=1)]\n",
    "\n",
    "history = model.fit_generator(train_gen, validation_data=valid_gen, steps_per_epoch=train_steps, validation_steps=valid_steps, \n",
    "                    epochs=epochs, callbacks=callbacks)"
   ]
  },
  {
   "cell_type": "code",
   "execution_count": 11,
   "metadata": {},
   "outputs": [
    {
     "name": "stdout",
     "output_type": "stream",
     "text": [
      "dict_keys(['lr', 'val_acc', 'loss', 'acc', 'dice_coef', 'val_loss', 'val_dice_coef'])\n"
     ]
    },
    {
     "data": {
      "image/png": "[encoded data removed]",
      "text/plain": [
       "<Figure size 432x288 with 1 Axes>"
      ]
     },
     "metadata": {},
     "output_type": "display_data"
    },
    {
     "data": {
      "image/png": "[encoded data removed]",
      "text/plain": [
       "<Figure size 432x288 with 1 Axes>"
      ]
     },
     "metadata": {},
     "output_type": "display_data"
    }
   ],
   "source": [
    "# View training statistics\n",
    "import matplotlib.pyplot as plt\n",
    "%matplotlib inline\n",
    "\n",
    "print(history.history.keys())\n",
    "# summarize history for accuracy\n",
    "plt.plot(history.history['acc'])\n",
    "plt.plot(history.history['val_acc'])\n",
    "plt.title('model accuracy')\n",
    "plt.ylabel('accuracy')\n",
    "plt.xlabel('epoch')\n",
    "plt.legend(['train', 'test'], loc='upper left')\n",
    "plt.show()\n",
    "# summarize history for loss\n",
    "plt.plot(history.history['loss'])\n",
    "plt.plot(history.history['val_loss'])\n",
    "plt.title('model loss')\n",
    "plt.ylabel('loss')\n",
    "plt.xlabel('epoch')\n",
    "plt.legend(['train', 'test'], loc='upper left')\n",
    "plt.show()"
   ]
  },
  {
   "cell_type": "code",
   "execution_count": null,
   "metadata": {},
   "outputs": [],
   "source": [
    "# Quickly view predictions on patches with the trained model.\n",
    "# Predictions for larger data will need to be done in the next notebook.\n",
    "\n",
    "test_gen = DataGen(valid_ids, train_path, image_size=patch_size, patch_size=patch_size, batch_size=batch_size, percent_covered=0)\n",
    "x, y = test_gen.__getitem__(0)\n",
    "result = model.predict(x)\n",
    "\n",
    "n=100\n",
    "z=8\n",
    "\n",
    "print(x.shape)\n",
    "display_slice_from_batch(x,n,z)\n",
    "display_slice_from_batch(y,n,z)\n",
    "display_slice_from_batch(result,n,z)"
   ]
  },
  {
   "cell_type": "code",
   "execution_count": 14,
   "metadata": {},
   "outputs": [],
   "source": [
    "# Run this if you want to save the training history\n",
    "import pickle\n",
    "with open('trainHistoryDict_overnight', 'wb') as handle: # saving the history of the model\n",
    "    pickle.dump(history.history, handle)"
   ]
  },
  {
   "cell_type": "code",
   "execution_count": null,
   "metadata": {},
   "outputs": [],
   "source": []
  }
 ],
 "metadata": {
  "kernelspec": {
   "display_name": "Python 3",
   "language": "python",
   "name": "python3"
  },
  "language_info": {
   "codemirror_mode": {
    "name": "ipython",
    "version": 3
   },
   "file_extension": ".py",
   "mimetype": "text/x-python",
   "name": "python",
   "nbconvert_exporter": "python",
   "pygments_lexer": "ipython3",
   "version": "3.7.7"
  }
 },
 "nbformat": 4,
 "nbformat_minor": 2
}
