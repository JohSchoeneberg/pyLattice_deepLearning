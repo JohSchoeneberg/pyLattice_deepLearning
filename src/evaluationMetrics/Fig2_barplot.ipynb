{
 "cells": [
  {
   "cell_type": "code",
   "execution_count": 127,
   "metadata": {},
   "outputs": [
    {
     "data": {
      "image/png": "[encoded data removed]",
      "text/plain": [
       "<Figure size 432x288 with 1 Axes>"
      ]
     },
     "metadata": {},
     "output_type": "display_data"
    }
   ],
   "source": [
    "# libraries\n",
    "import numpy as np\n",
    "import matplotlib.pyplot as plt\n",
    " \n",
    "# width of the bars\n",
    "barWidth = 0.25\n",
    "\n",
    "PSNR100_matlab = np.array([[0.9832474226804123, 0.9672512148742869, 0.9751837256363829]])\n",
    "PSNR100_pyL_deep = np.array([[0.9703685858829197, 0.9464285714285714, 0.9582490781491613]])\n",
    "PSNR5_matlab = np.array([[0.9657615112160567, 0.17297525903996616, 0.29340028694404585]])\n",
    "PSNR5_pyL_deep = np.array([[0.4593490746649649, 0.8530457454373074, 0.5971461755433881]])\n",
    "\n",
    "\n",
    "\n",
    "# blue, precision\n",
    "bars1 = [np.average(PSNR100_matlab[:,0]), \n",
    "         np.average(PSNR100_pyL_deep[:,0]), \n",
    "         np.average(PSNR5_matlab[:,0]),\n",
    "         np.average(PSNR5_pyL_deep[:,0])]\n",
    "yer1 = [np.std(PSNR100_matlab[:,0]), \n",
    "         np.std(PSNR100_pyL_deep[:,0]), \n",
    "         np.std(PSNR5_matlab[:,0]),\n",
    "         np.std(PSNR5_pyL_deep[:,0])]\n",
    "\n",
    "# cyan\n",
    "bars2 = [np.average(PSNR100_matlab[:,1]), \n",
    "         np.average(PSNR100_pyL_deep[:,1]), \n",
    "         np.average(PSNR5_matlab[:,1]),\n",
    "         np.average(PSNR5_pyL_deep[:,1])]\n",
    "yer2 = [np.std(PSNR100_matlab[:,1]), \n",
    "         np.std(PSNR100_pyL_deep[:,1]), \n",
    "         np.std(PSNR5_matlab[:,1]),\n",
    "         np.std(PSNR5_pyL_deep[:,1])]\n",
    "\n",
    "# cyan\n",
    "bars3 = [np.average(PSNR100_matlab[:,2]), \n",
    "         np.average(PSNR100_pyL_deep[:,2]), \n",
    "         np.average(PSNR5_matlab[:,2]),\n",
    "         np.average(PSNR5_pyL_deep[:,2])]\n",
    "yer3 = [np.std(PSNR100_matlab[:,2]), \n",
    "         np.std(PSNR100_pyL_deep[:,2]), \n",
    "         np.std(PSNR5_matlab[:,2]),\n",
    "         np.std(PSNR5_pyL_deep[:,2])]\n",
    "\n",
    " \n",
    "# The x position of bars\n",
    "r1 = np.arange(len(bars1))\n",
    "r2 = [x + barWidth for x in r1]\n",
    "r3 = [x + barWidth for x in r2]\n",
    " \n",
    "# Create blue bars\n",
    "plt.bar(r1, bars1, width = barWidth, color = ['LightGrey','grey','LightGrey','grey'], edgecolor = 'black', yerr=yer1, capsize=7, label='poacee')\n",
    "plt.bar(r2, bars2, width = barWidth, color = ['LightYellow','gold','LightYellow','gold'], edgecolor = 'black', yerr=yer2, capsize=7, label='sorgho')\n",
    "plt.bar(r3, bars3, width = barWidth, color = ['lightblue','navy','lightblue','navy'], edgecolor = 'black', yerr=yer3, capsize=7, label='sorgho')\n",
    " \n",
    "# general layout\n",
    "plt.xticks([r + barWidth for r in range(len(bars1))], ['PSNR=100\\nPyL_V1.0', 'PSNR=100\\nPyL_deepL', 'PSNR=5\\nPyL_V1.0', 'PSNR=5\\nPyL_deepL'])\n",
    "plt.ylabel('height')\n",
    "#plt.legend()\n",
    " \n",
    "# Show graphic\n",
    "plt.show()\n"
   ]
  },
  {
   "cell_type": "code",
   "execution_count": null,
   "metadata": {
    "collapsed": true
   },
   "outputs": [],
   "source": []
  }
 ],
 "metadata": {
  "kernelspec": {
   "display_name": "Python 3",
   "language": "python",
   "name": "python3"
  },
  "language_info": {
   "codemirror_mode": {
    "name": "ipython",
    "version": 3
   },
   "file_extension": ".py",
   "mimetype": "text/x-python",
   "name": "python",
   "nbconvert_exporter": "python",
   "pygments_lexer": "ipython3",
   "version": "3.6.3"
  }
 },
 "nbformat": 4,
 "nbformat_minor": 2
}
