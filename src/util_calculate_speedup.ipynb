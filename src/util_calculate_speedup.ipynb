{
 "cells": [
  {
   "cell_type": "code",
   "execution_count": 6,
   "metadata": {},
   "outputs": [
    {
     "name": "stdout",
     "output_type": "stream",
     "text": [
      "matlab = 230.2433333333333s +- 40.79346543531478s\n",
      "pyl_DL = 32.36666666666667s +- 1.3670731102939913s\n",
      "speedup = 7.113594232749743x\n"
     ]
    }
   ],
   "source": [
    "import numpy as np\n",
    "matlab = np.mean([287.03,193.04,210.66])\n",
    "matlab = np.mean([287.03,193.04,210.66])\n",
    "\n",
    "print(\"matlab = {}s +- {}s\".format(np.mean([287.03,193.04,210.66]),np.std([287.03,193.04,210.66])))\n",
    "print(\"pyl_DL = {}s +- {}s\".format(np.mean([31.40,31.40,34.30]),np.std([31.40,31.40,34.30])))\n",
    "print(\"speedup = {}x\".format(np.mean([287.03,193.04,210.66]/np.mean([31.40,31.40,34.30]))))"
   ]
  },
  {
   "cell_type": "code",
   "execution_count": null,
   "metadata": {
    "collapsed": true
   },
   "outputs": [],
   "source": []
  }
 ],
 "metadata": {
  "kernelspec": {
   "display_name": "Python 3",
   "language": "python",
   "name": "python3"
  },
  "language_info": {
   "codemirror_mode": {
    "name": "ipython",
    "version": 3
   },
   "file_extension": ".py",
   "mimetype": "text/x-python",
   "name": "python",
   "nbconvert_exporter": "python",
   "pygments_lexer": "ipython3",
   "version": "3.6.3"
  }
 },
 "nbformat": 4,
 "nbformat_minor": 2
}
