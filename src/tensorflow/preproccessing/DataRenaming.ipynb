{
 "cells": [
  {
   "cell_type": "code",
   "execution_count": 1,
   "metadata": {
    "collapsed": true
   },
   "outputs": [],
   "source": [
    "import os\n",
    "import shutil\n",
    "import random\n",
    "\n",
    "data_directory=\"/home/gautham/bkly/LatticeLightSheet/MassData/ConvertedData/\"\n",
    "split_directory=\"/home/gautham/bkly/LatticeLightSheet/MassData/\"\n",
    "train_split = 0.75\n",
    "x_key_string = \"cropped\"\n",
    "y_key_string = \"dmask\"\n",
    "datatype=\".nii.gz\"\n",
    "\n",
    "def split_list(a_list):\n",
    "    half = len(a_list)//2\n",
    "    return a_list[:half], a_list[half:]"
   ]
  },
  {
   "cell_type": "code",
   "execution_count": 2,
   "metadata": {
    "collapsed": true
   },
   "outputs": [],
   "source": [
    "#Run only if you want to delete current data split and start fresh\n",
    "\n",
    "#Deletes old train and test folders that were split\n",
    "os.chdir(split_directory)\n",
    "if \"train\" in os.listdir():\n",
    "    shutil.rmtree(split_directory+\"train/\")\n",
    "if \"test\" in os.listdir():\n",
    "    shutil.rmtree(split_directory+\"test/\")"
   ]
  },
  {
   "cell_type": "code",
   "execution_count": 3,
   "metadata": {},
   "outputs": [
    {
     "name": "stdout",
     "output_type": "stream",
     "text": [
      "['cropped_560_pm50px_maxAmpl_0053.nii.gz', 'cropped_560_pm50px_maxAmpl_0068.nii.gz', 'cropped_560_pm50px_maxAmpl_0028.nii.gz', 'cropped_560_pm50px_maxAmpl_0069.nii.gz', 'cropped_560_pm50px_maxAmpl_0040.nii.gz', 'cropped_560_pm50px_maxAmpl_0055.nii.gz', 'cropped_560_pm50px_maxAmpl_0027.nii.gz', 'cropped_560_pm50px_maxAmpl_0044.nii.gz', 'cropped_560_pm50px_maxAmpl_0036.nii.gz', 'cropped_560_pm50px_maxAmpl_0039.nii.gz', 'cropped_560_pm50px_maxAmpl_0062.nii.gz', 'cropped_560_pm50px_maxAmpl_0054.nii.gz', 'cropped_560_pm50px_maxAmpl_0026.nii.gz', 'cropped_560_pm50px_maxAmpl_0029.nii.gz', 'cropped_560_pm50px_maxAmpl_0056.nii.gz', 'cropped_560_pm50px_maxAmpl_0020.nii.gz', 'cropped_560_pm50px_maxAmpl_0060.nii.gz', 'cropped_560_pm50px_maxAmpl_0045.nii.gz', 'cropped_560_pm50px_maxAmpl_0047.nii.gz', 'cropped_560_pm50px_maxAmpl_0042.nii.gz', 'cropped_560_pm50px_maxAmpl_0022.nii.gz', 'cropped_560_pm50px_maxAmpl_0037.nii.gz', 'cropped_560_pm50px_maxAmpl_0052.nii.gz', 'cropped_560_pm50px_maxAmpl_0000.nii.gz', 'cropped_560_pm50px_maxAmpl_0009.nii.gz', 'cropped_560_pm50px_maxAmpl_0043.nii.gz', 'cropped_560_pm50px_maxAmpl_0002.nii.gz', 'cropped_560_pm50px_maxAmpl_0008.nii.gz', 'cropped_560_pm50px_maxAmpl_0031.nii.gz', 'cropped_560_pm50px_maxAmpl_0007.nii.gz', 'cropped_560_pm50px_maxAmpl_0059.nii.gz', 'cropped_560_pm50px_maxAmpl_0015.nii.gz', 'cropped_560_pm50px_maxAmpl_0032.nii.gz', 'cropped_560_pm50px_maxAmpl_0024.nii.gz', 'cropped_560_pm50px_maxAmpl_0021.nii.gz', 'cropped_560_pm50px_maxAmpl_0005.nii.gz', 'cropped_560_pm50px_maxAmpl_0066.nii.gz', 'cropped_560_pm50px_maxAmpl_0057.nii.gz', 'cropped_560_pm50px_maxAmpl_0064.nii.gz', 'cropped_560_pm50px_maxAmpl_0010.nii.gz', 'cropped_560_pm50px_maxAmpl_0012.nii.gz', 'cropped_560_pm50px_maxAmpl_0049.nii.gz', 'cropped_560_pm50px_maxAmpl_0046.nii.gz', 'cropped_560_pm50px_maxAmpl_0041.nii.gz', 'cropped_560_pm50px_maxAmpl_0065.nii.gz', 'cropped_560_pm50px_maxAmpl_0067.nii.gz', 'cropped_560_pm50px_maxAmpl_0016.nii.gz', 'cropped_560_pm50px_maxAmpl_0006.nii.gz', 'cropped_560_pm50px_maxAmpl_0063.nii.gz', 'cropped_560_pm50px_maxAmpl_0017.nii.gz', 'cropped_560_pm50px_maxAmpl_0023.nii.gz', 'cropped_560_pm50px_maxAmpl_0034.nii.gz', 'cropped_560_pm50px_maxAmpl_0033.nii.gz', 'cropped_560_pm50px_maxAmpl_0014.nii.gz', 'cropped_560_pm50px_maxAmpl_0003.nii.gz', 'cropped_560_pm50px_maxAmpl_0048.nii.gz', 'cropped_560_pm50px_maxAmpl_0051.nii.gz', 'cropped_560_pm50px_maxAmpl_0018.nii.gz', 'cropped_560_pm50px_maxAmpl_0058.nii.gz', 'cropped_560_pm50px_maxAmpl_0035.nii.gz', 'cropped_560_pm50px_maxAmpl_0025.nii.gz', 'cropped_560_pm50px_maxAmpl_0001.nii.gz', 'cropped_560_pm50px_maxAmpl_0004.nii.gz', 'cropped_560_pm50px_maxAmpl_0011.nii.gz', 'cropped_560_pm50px_maxAmpl_0019.nii.gz', 'cropped_560_pm50px_maxAmpl_0061.nii.gz', 'cropped_560_pm50px_maxAmpl_0050.nii.gz', 'cropped_560_pm50px_maxAmpl_0013.nii.gz', 'cropped_560_pm50px_maxAmpl_0038.nii.gz', 'cropped_560_pm50px_maxAmpl_0030.nii.gz']\n",
      "['dmask_54.nii.gz', 'dmask_69.nii.gz', 'dmask_29.nii.gz', 'dmask_70.nii.gz', 'dmask_41.nii.gz', 'dmask_56.nii.gz', 'dmask_28.nii.gz', 'dmask_45.nii.gz', 'dmask_37.nii.gz', 'dmask_40.nii.gz', 'dmask_63.nii.gz', 'dmask_55.nii.gz', 'dmask_27.nii.gz', 'dmask_30.nii.gz', 'dmask_57.nii.gz', 'dmask_21.nii.gz', 'dmask_61.nii.gz', 'dmask_46.nii.gz', 'dmask_48.nii.gz', 'dmask_43.nii.gz', 'dmask_23.nii.gz', 'dmask_38.nii.gz', 'dmask_53.nii.gz', 'dmask_01.nii.gz', 'dmask_10.nii.gz', 'dmask_44.nii.gz', 'dmask_03.nii.gz', 'dmask_09.nii.gz', 'dmask_32.nii.gz', 'dmask_08.nii.gz', 'dmask_60.nii.gz', 'dmask_16.nii.gz', 'dmask_33.nii.gz', 'dmask_25.nii.gz', 'dmask_22.nii.gz', 'dmask_06.nii.gz', 'dmask_67.nii.gz', 'dmask_58.nii.gz', 'dmask_65.nii.gz', 'dmask_11.nii.gz', 'dmask_13.nii.gz', 'dmask_50.nii.gz', 'dmask_47.nii.gz', 'dmask_42.nii.gz', 'dmask_66.nii.gz', 'dmask_68.nii.gz', 'dmask_17.nii.gz', 'dmask_07.nii.gz', 'dmask_64.nii.gz', 'dmask_18.nii.gz', 'dmask_24.nii.gz', 'dmask_35.nii.gz', 'dmask_34.nii.gz', 'dmask_15.nii.gz', 'dmask_04.nii.gz', 'dmask_49.nii.gz', 'dmask_52.nii.gz', 'dmask_19.nii.gz', 'dmask_59.nii.gz', 'dmask_36.nii.gz', 'dmask_26.nii.gz', 'dmask_02.nii.gz', 'dmask_05.nii.gz', 'dmask_12.nii.gz', 'dmask_20.nii.gz', 'dmask_62.nii.gz', 'dmask_51.nii.gz', 'dmask_14.nii.gz', 'dmask_39.nii.gz', 'dmask_31.nii.gz']\n"
     ]
    }
   ],
   "source": [
    "#Strategy: Order all files in list, and split in half so that x and y are seperate.\n",
    "#Shuffle both lists with the same seed to ensure that the order is not lost\n",
    "\n",
    "#Check if train and data folders are created\n",
    "if \"train\" not in os.listdir(split_directory):\n",
    "    os.mkdir(split_directory+\"train/\")\n",
    "#if \"image\" not in os.listdir(split_directory+\"train/\"):\n",
    "    #os.mkdir(split_directory+\"train/image/\")\n",
    "#if \"label\" not in os.listdir(split_directory+\"train/\"):\n",
    "    #os.mkdir(split_directory+\"train/label/\")\n",
    "if \"test\" not in os.listdir(split_directory):\n",
    "    os.mkdir(split_directory+\"test/\")\n",
    "\n",
    "#Split alphabetical list\n",
    "files = os.listdir(data_directory)\n",
    "files = sorted(files)\n",
    "if x_key_string<y_key_string:\n",
    "    x_files, y_files = split_list(files)\n",
    "else:\n",
    "    y_files, x_files = split_list(files)\n",
    "\n",
    "#Seed for the same results and confirm that the order is preserved\n",
    "random.Random(4).shuffle(x_files)\n",
    "random.Random(4).shuffle(y_files)\n",
    "print(x_files)\n",
    "print(y_files)"
   ]
  },
  {
   "cell_type": "code",
   "execution_count": 6,
   "metadata": {
    "collapsed": true
   },
   "outputs": [],
   "source": [
    "num_images=len(x_files)\n",
    "num_train = int(num_images*train_split)\n",
    "num_test = num_images - num_train\n",
    "\n",
    "for k in range (0, num_train):\n",
    "    os.mkdir(split_directory+\"train/Frame\"+str(k)+\"/\")\n",
    "    shutil.copy(data_directory+x_files[k], split_directory+\"train/Frame\"+str(k)+\"/\"+\"lattice_light_sheet\"+datatype)\n",
    "    shutil.copy(data_directory+y_files[k], split_directory+\"train/Frame\"+str(k)+\"/\"+\"truth\"+datatype)\n",
    "\n",
    "for k in range(num_train+1, num_images):\n",
    "    shutil.copy(data_directory+x_files[k], split_directory+\"test/\"+str(k)+datatype)\n",
    "    #Actual mask does not need to be saved\n",
    "    #shutil.copy(data_directory+y_files[k], split_directory+\"test/\"+str(k)+\"_actual\"+datatype)"
   ]
  },
  {
   "cell_type": "code",
   "execution_count": null,
   "metadata": {
    "collapsed": true
   },
   "outputs": [],
   "source": []
  },
  {
   "cell_type": "code",
   "execution_count": null,
   "metadata": {
    "collapsed": true
   },
   "outputs": [],
   "source": [
    "\n"
   ]
  },
  {
   "cell_type": "code",
   "execution_count": null,
   "metadata": {
    "collapsed": true
   },
   "outputs": [],
   "source": []
  }
 ],
 "metadata": {
  "kernelspec": {
   "display_name": "Python 3",
   "language": "python",
   "name": "python3"
  },
  "language_info": {
   "codemirror_mode": {
    "name": "ipython",
    "version": 3
   },
   "file_extension": ".py",
   "mimetype": "text/x-python",
   "name": "python",
   "nbconvert_exporter": "python",
   "pygments_lexer": "ipython3",
   "version": "3.6.3"
  }
 },
 "nbformat": 4,
 "nbformat_minor": 2
}
